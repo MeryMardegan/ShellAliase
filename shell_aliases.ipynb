{
 "cells": [
  {
   "cell_type": "code",
   "execution_count": null,
   "id": "28605751-3bcd-4f10-8590-5be863a873e0",
   "metadata": {},
   "outputs": [],
   "source": [
    "#Login no servidor via SSH\n",
    "ssh username@ip"
   ]
  },
  {
   "cell_type": "code",
   "execution_count": null,
   "id": "aa183ee4-8b43-42df-b986-f2a2ace41545",
   "metadata": {},
   "outputs": [],
   "source": [
    "#Conexão com o servidor via porta específica\n",
    "ssh - p 2222 username@SSH"
   ]
  },
  {
   "cell_type": "code",
   "execution_count": null,
   "id": "5c5721dd-594e-454c-aaf0-c34fd8dd4bfb",
   "metadata": {},
   "outputs": [],
   "source": [
    "#Gerando um par de chaves SSH no host para autenticação sem senha\n",
    "ssh-keygen\n",
    "\n",
    "#É dado como opção gerar uma senha à chave, digite-a quando solicitado ou pressione enter"
   ]
  },
  {
   "cell_type": "code",
   "execution_count": null,
   "id": "e0dbf6f6-a8de-4422-9b5b-ecf41c37a544",
   "metadata": {},
   "outputs": [],
   "source": [
    "# checando onde a chave foi criada e movendo para a área de trabalho no seu host\n",
    "mv ~/.ssh/id_rsa.pub ~/Desktop/\n",
    "\n",
    "#copiando a chave\n",
    "cat ~/.ssh/id_rsa.pub"
   ]
  },
  {
   "cell_type": "code",
   "execution_count": null,
   "id": "fce34103-6f42-4463-9ad1-1e195ff99ac5",
   "metadata": {},
   "outputs": [],
   "source": [
    "#Voltando ao servidor, abrir o arquivo e colocar a chave copiada\n",
    "nano ~/.ssh/authorized_keys"
   ]
  },
  {
   "cell_type": "code",
   "execution_count": null,
   "id": "20a54195-7c66-4a43-9bba-6acea8ae3e87",
   "metadata": {},
   "outputs": [],
   "source": [
    "# #Habilitando o SSH Agent se tiver adicionado senha na chave, no host\n",
    "Start-Service ssh-agent"
   ]
  },
  {
   "cell_type": "code",
   "execution_count": null,
   "id": "354e56d7-e660-40ae-a28f-9e70badc637e",
   "metadata": {},
   "outputs": [],
   "source": [
    "#dicionando a chave ao agente\n",
    "sh-add #\"caminho da chave\""
   ]
  },
  {
   "cell_type": "code",
   "execution_count": null,
   "id": "e0e0c0f8-eabe-4a54-a2f4-5f2640c6a7b9",
   "metadata": {},
   "outputs": [],
   "source": [
    "#Configurando alias para acesso rápido. No host:\n",
    "notepad ~/.ssh/config"
   ]
  },
  {
   "cell_type": "code",
   "execution_count": null,
   "id": "ef8392b2-d6db-42d7-8404-0fb0b10ecc53",
   "metadata": {},
   "outputs": [],
   "source": [
    "#Adicione os seguintes dados\n",
    "Host #Nome que deseja adicionar para acessar\n",
    "    HostName #IP do servidor\n",
    "    User #User de acesso ao servidor\n",
    "    Port #Porta de entrada ao servidor, geralmente 22\n",
    "    IdentifyFile #caminho da sua chave privada"
   ]
  },
  {
   "cell_type": "code",
   "execution_count": null,
   "id": "737eaadf-9030-42cd-b83a-955ac319f505",
   "metadata": {},
   "outputs": [],
   "source": []
  }
 ],
 "metadata": {
  "kernelspec": {
   "display_name": "Python 3 (ipykernel)",
   "language": "python",
   "name": "python3"
  },
  "language_info": {
   "codemirror_mode": {
    "name": "ipython",
    "version": 3
   },
   "file_extension": ".py",
   "mimetype": "text/x-python",
   "name": "python",
   "nbconvert_exporter": "python",
   "pygments_lexer": "ipython3",
   "version": "3.12.4"
  }
 },
 "nbformat": 4,
 "nbformat_minor": 5
}
